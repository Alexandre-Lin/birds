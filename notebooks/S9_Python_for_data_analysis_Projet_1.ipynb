{
  "nbformat": 4,
  "nbformat_minor": 0,
  "metadata": {
    "colab": {
      "name": "S9 Python for data analysis Projet 1.ipynb",
      "provenance": [],
      "collapsed_sections": []
    },
    "kernelspec": {
      "display_name": "Python 3",
      "name": "python3"
    }
  },
  "cells": [
    {
      "cell_type": "code",
      "metadata": {
        "id": "WR-JoneypHuN"
      },
      "source": [
        "import os \n",
        "import pandas as pd \n",
        "import librosa \n",
        "import numpy as np\n",
        "import IPython.display as ipd \n",
        "from glob import glob\n",
        "import matplotlib.pyplot as plt \n",
        "%matplotlib  inline \n",
        "\n",
        "import requests\n",
        "import zipfile"
      ],
      "execution_count": null,
      "outputs": []
    },
    {
      "cell_type": "markdown",
      "metadata": {
        "id": "cK1xvxZUo14G"
      },
      "source": [
        "Importation des données\n"
      ]
    }
  ]
}