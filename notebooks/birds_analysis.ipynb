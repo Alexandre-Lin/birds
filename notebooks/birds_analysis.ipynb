{
  "nbformat": 4,
  "nbformat_minor": 0,
  "metadata": {
    "colab": {
      "name": "S9 Python for data analysis Projet 1.ipynb",
      "provenance": [],
      "collapsed_sections": []
    },
    "kernelspec": {
      "name": "python3",
      "display_name": "Python 3.8.5 64-bit ('base': conda)",
      "metadata": {
        "interpreter": {
          "hash": "73625c95688d0c756d4e27ad372e9fea198d2093b960538266b549071fedc211"
        }
      }
    }
  },
  "cells": [
    {
      "cell_type": "code",
      "metadata": {
        "id": "WR-JoneypHuN"
      },
      "source": [
        "import os \n",
        "import pandas as pd \n",
        "import librosa \n",
        "import numpy as np\n",
        "import IPython.display as ipd \n",
        "from glob import glob\n",
        "import matplotlib.pyplot as plt \n",
        "%matplotlib  inline \n",
        "\n",
        "import requests\n",
        "import zipfile"
      ],
      "execution_count": 2,
      "outputs": []
    },
    {
      "cell_type": "markdown",
      "metadata": {
        "id": "cK1xvxZUo14G"
      },
      "source": [
        "Importation des données\n"
      ]
    },
    {
      "cell_type": "code",
      "execution_count": 6,
      "metadata": {},
      "outputs": [],
      "source": [
        "zipfile.ZipFile(\"../data/archive.zip\").extractall(\"../data/\")"
      ]
    },
    {
      "cell_type": "code",
      "execution_count": null,
      "metadata": {},
      "outputs": [],
      "source": []
    }
  ]
}