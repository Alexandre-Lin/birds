{
  "nbformat": 4,
  "nbformat_minor": 0,
  "metadata": {
    "colab": {
      "name": "S9 Python for data analysis Projet 1.ipynb",
      "provenance": [],
      "collapsed_sections": []
    },
    "kernelspec": {
      "name": "python3",
      "display_name": "Python 3.6.12 64-bit ('directml': conda)",
      "metadata": {
        "interpreter": {
          "hash": "2d3f3ec9ae7b2e9c730e8ad98bb7edba157759f9260b3ae668e1b1779f662ce6"
        }
      }
    }
  },
  "cells": [
    {
      "cell_type": "code",
      "metadata": {
        "id": "WR-JoneypHuN"
      },
      "source": [
        "import os \n",
        "import pandas as pd \n",
        "import librosa \n",
        "import numpy as np\n",
        "import IPython.display as ipd \n",
        "from glob import glob\n",
        "import matplotlib.pyplot as plt \n",
        "%matplotlib  inline \n",
        "\n",
        "import requests\n",
        "import zipfile\n",
        "import pathlib\n",
        "from pathlib import Path\n"
      ],
      "execution_count": 5,
      "outputs": []
    },
    {
      "cell_type": "markdown",
      "metadata": {
        "id": "cK1xvxZUo14G"
      },
      "source": [
        "Importation des données\n"
      ]
    },
    {
      "cell_type": "code",
      "execution_count": 3,
      "metadata": {},
      "outputs": [],
      "source": [
        "zipfile.ZipFile(\"../data/archive.zip\").extractall(\"../data/\") # extrait le fichier zip dans le dossier data"
      ]
    },
    {
      "cell_type": "code",
      "execution_count": 52,
      "metadata": {},
      "outputs": [
        {
          "output_type": "stream",
          "name": "stdout",
          "text": [
            "<class 'generator'>\n<class 'list'>\nIl y a 264 fichiers flac.\n"
          ]
        },
        {
          "output_type": "execute_result",
          "data": {
            "text/plain": [
              "[WindowsPath('../data/songs/songs/xc101371.flac'),\n",
              " WindowsPath('../data/songs/songs/xc101377.flac'),\n",
              " WindowsPath('../data/songs/songs/xc101862.flac')]"
            ]
          },
          "metadata": {},
          "execution_count": 52
        }
      ],
      "source": [
        "songs = Path(\"../data/songs/songs\").glob(\"*.flac\") # récupère le path des fichiers flac\n",
        "\n",
        "print(type(songs))\n",
        "songs = [*songs] # lecture du generator et stockage dans une liste\n",
        "print(type(songs))\n",
        "\n",
        "print(f\"Il y a {len(songs)} fichiers flac.\")\n",
        "\n",
        "songs[:3] # affichage des 3 permiers éléments"
      ]
    },
    {
      "cell_type": "code",
      "execution_count": 54,
      "metadata": {},
      "outputs": [
        {
          "output_type": "execute_result",
          "data": {
            "text/plain": [
              "     file_id         genus     species     english_cname  \\\n",
              "0     132608      Acanthis     flammea    Common Redpoll   \n",
              "1     132611      Acanthis     flammea    Common Redpoll   \n",
              "2      35068      Acanthis     flammea    Common Redpoll   \n",
              "3      82715  Acrocephalus   palustris     Marsh Warbler   \n",
              "4      64685  Acrocephalus   palustris     Marsh Warbler   \n",
              "..       ...           ...         ...               ...   \n",
              "259   132392        Turdus  philomelos       Song Thrush   \n",
              "260   146756        Turdus  philomelos       Song Thrush   \n",
              "261    27060      Vanellus    vanellus  Northern Lapwing   \n",
              "262    97982      Vanellus    vanellus  Northern Lapwing   \n",
              "263    69855      Vanellus    vanellus  Northern Lapwing   \n",
              "\n",
              "    who_provided_recording         country  latitude  longitute  \\\n",
              "0           Jarek Matusiak          Poland   50.7932    15.4995   \n",
              "1           Jarek Matusiak          Poland   50.7932    15.4995   \n",
              "2               Sander Bot     Netherlands   52.8176     6.4326   \n",
              "3           Dougie Preston  United Kingdom   60.3539    -1.2689   \n",
              "4           Dougie Preston  United Kingdom   60.3539    -1.2689   \n",
              "..                     ...             ...       ...        ...   \n",
              "259                david m  United Kingdom   54.1200    -0.5445   \n",
              "260  David Darrell-Lambert  United Kingdom   51.6608     0.0031   \n",
              "261            Patrik berg          Sweden   58.4051    14.3028   \n",
              "262    Herman van der Meer     Netherlands   52.1520     4.3470   \n",
              "263      Ruud van Beusekom     Netherlands   52.2598     5.2970   \n",
              "\n",
              "                        type  \\\n",
              "0         female, male, song   \n",
              "1    flight call, male, song   \n",
              "2                 call, song   \n",
              "3                       Song   \n",
              "4                       Song   \n",
              "..                       ...   \n",
              "259                     song   \n",
              "260                     song   \n",
              "261                     song   \n",
              "262               call, song   \n",
              "263               call, song   \n",
              "\n",
              "                                               license  \n",
              "0    http://creativecommons.org/licenses/by-nc-sa/3.0/  \n",
              "1    http://creativecommons.org/licenses/by-nc-sa/3.0/  \n",
              "2    http://creativecommons.org/licenses/by-nc-nd/2.5/  \n",
              "3    http://creativecommons.org/licenses/by-nc-nd/2.5/  \n",
              "4    http://creativecommons.org/licenses/by-nc-nd/2.5/  \n",
              "..                                                 ...  \n",
              "259  http://creativecommons.org/licenses/by-nc-nd/3.0/  \n",
              "260  http://creativecommons.org/licenses/by-nc-sa/3.0/  \n",
              "261  http://creativecommons.org/licenses/by-nc-sa/3.0/  \n",
              "262  http://creativecommons.org/licenses/by-nc-nd/2.5/  \n",
              "263  http://creativecommons.org/licenses/by-nc-nd/2.5/  \n",
              "\n",
              "[264 rows x 10 columns]"
            ],
            "text/html": "<div>\n<style scoped>\n    .dataframe tbody tr th:only-of-type {\n        vertical-align: middle;\n    }\n\n    .dataframe tbody tr th {\n        vertical-align: top;\n    }\n\n    .dataframe thead th {\n        text-align: right;\n    }\n</style>\n<table border=\"1\" class=\"dataframe\">\n  <thead>\n    <tr style=\"text-align: right;\">\n      <th></th>\n      <th>file_id</th>\n      <th>genus</th>\n      <th>species</th>\n      <th>english_cname</th>\n      <th>who_provided_recording</th>\n      <th>country</th>\n      <th>latitude</th>\n      <th>longitute</th>\n      <th>type</th>\n      <th>license</th>\n    </tr>\n  </thead>\n  <tbody>\n    <tr>\n      <th>0</th>\n      <td>132608</td>\n      <td>Acanthis</td>\n      <td>flammea</td>\n      <td>Common Redpoll</td>\n      <td>Jarek Matusiak</td>\n      <td>Poland</td>\n      <td>50.7932</td>\n      <td>15.4995</td>\n      <td>female, male, song</td>\n      <td>http://creativecommons.org/licenses/by-nc-sa/3.0/</td>\n    </tr>\n    <tr>\n      <th>1</th>\n      <td>132611</td>\n      <td>Acanthis</td>\n      <td>flammea</td>\n      <td>Common Redpoll</td>\n      <td>Jarek Matusiak</td>\n      <td>Poland</td>\n      <td>50.7932</td>\n      <td>15.4995</td>\n      <td>flight call, male, song</td>\n      <td>http://creativecommons.org/licenses/by-nc-sa/3.0/</td>\n    </tr>\n    <tr>\n      <th>2</th>\n      <td>35068</td>\n      <td>Acanthis</td>\n      <td>flammea</td>\n      <td>Common Redpoll</td>\n      <td>Sander Bot</td>\n      <td>Netherlands</td>\n      <td>52.8176</td>\n      <td>6.4326</td>\n      <td>call, song</td>\n      <td>http://creativecommons.org/licenses/by-nc-nd/2.5/</td>\n    </tr>\n    <tr>\n      <th>3</th>\n      <td>82715</td>\n      <td>Acrocephalus</td>\n      <td>palustris</td>\n      <td>Marsh Warbler</td>\n      <td>Dougie Preston</td>\n      <td>United Kingdom</td>\n      <td>60.3539</td>\n      <td>-1.2689</td>\n      <td>Song</td>\n      <td>http://creativecommons.org/licenses/by-nc-nd/2.5/</td>\n    </tr>\n    <tr>\n      <th>4</th>\n      <td>64685</td>\n      <td>Acrocephalus</td>\n      <td>palustris</td>\n      <td>Marsh Warbler</td>\n      <td>Dougie Preston</td>\n      <td>United Kingdom</td>\n      <td>60.3539</td>\n      <td>-1.2689</td>\n      <td>Song</td>\n      <td>http://creativecommons.org/licenses/by-nc-nd/2.5/</td>\n    </tr>\n    <tr>\n      <th>...</th>\n      <td>...</td>\n      <td>...</td>\n      <td>...</td>\n      <td>...</td>\n      <td>...</td>\n      <td>...</td>\n      <td>...</td>\n      <td>...</td>\n      <td>...</td>\n      <td>...</td>\n    </tr>\n    <tr>\n      <th>259</th>\n      <td>132392</td>\n      <td>Turdus</td>\n      <td>philomelos</td>\n      <td>Song Thrush</td>\n      <td>david m</td>\n      <td>United Kingdom</td>\n      <td>54.1200</td>\n      <td>-0.5445</td>\n      <td>song</td>\n      <td>http://creativecommons.org/licenses/by-nc-nd/3.0/</td>\n    </tr>\n    <tr>\n      <th>260</th>\n      <td>146756</td>\n      <td>Turdus</td>\n      <td>philomelos</td>\n      <td>Song Thrush</td>\n      <td>David Darrell-Lambert</td>\n      <td>United Kingdom</td>\n      <td>51.6608</td>\n      <td>0.0031</td>\n      <td>song</td>\n      <td>http://creativecommons.org/licenses/by-nc-sa/3.0/</td>\n    </tr>\n    <tr>\n      <th>261</th>\n      <td>27060</td>\n      <td>Vanellus</td>\n      <td>vanellus</td>\n      <td>Northern Lapwing</td>\n      <td>Patrik berg</td>\n      <td>Sweden</td>\n      <td>58.4051</td>\n      <td>14.3028</td>\n      <td>song</td>\n      <td>http://creativecommons.org/licenses/by-nc-sa/3.0/</td>\n    </tr>\n    <tr>\n      <th>262</th>\n      <td>97982</td>\n      <td>Vanellus</td>\n      <td>vanellus</td>\n      <td>Northern Lapwing</td>\n      <td>Herman van der Meer</td>\n      <td>Netherlands</td>\n      <td>52.1520</td>\n      <td>4.3470</td>\n      <td>call, song</td>\n      <td>http://creativecommons.org/licenses/by-nc-nd/2.5/</td>\n    </tr>\n    <tr>\n      <th>263</th>\n      <td>69855</td>\n      <td>Vanellus</td>\n      <td>vanellus</td>\n      <td>Northern Lapwing</td>\n      <td>Ruud van Beusekom</td>\n      <td>Netherlands</td>\n      <td>52.2598</td>\n      <td>5.2970</td>\n      <td>call, song</td>\n      <td>http://creativecommons.org/licenses/by-nc-nd/2.5/</td>\n    </tr>\n  </tbody>\n</table>\n<p>264 rows × 10 columns</p>\n</div>"
          },
          "metadata": {},
          "execution_count": 54
        }
      ],
      "source": [
        "birdsong_metadata = pd.read_csv(\"../data/birdsong_metadata.csv\")\n",
        "birdsong_metadata"
      ]
    },
    {
      "cell_type": "code",
      "execution_count": null,
      "metadata": {},
      "outputs": [],
      "source": []
    }
  ]
}